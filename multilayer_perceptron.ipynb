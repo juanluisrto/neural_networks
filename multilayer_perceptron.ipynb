{
 "cells": [
  {
   "cell_type": "code",
   "execution_count": 1,
   "metadata": {},
   "outputs": [],
   "source": [
    "import numpy as np\n",
    "import matplotlib.pyplot as plt\n",
    "from IPython import display\n",
    "import time\n",
    "from ipywidgets import widgets"
   ]
  },
  {
   "cell_type": "code",
   "execution_count": 313,
   "metadata": {},
   "outputs": [],
   "source": [
    "class Perceptron:\n",
    "    def __init__(self):\n",
    "        self.X = None\n",
    "        self.Y = None\n",
    "        self.W = None\n",
    "        self.learning_rate = None\n",
    "        self.error = []\n",
    "        \n",
    "    def fit(self,x,y, algorithm = \"delta\", learning_rate = 0.001, epochs = 100, mode = 'batch', plot_graph = False):\n",
    "        self.X = np.column_stack((x,np.ones(x.shape[0], dtype = int)))\n",
    "        self.W = np.random.normal(size = x.shape[1] + 1)\n",
    "        self.learning_rate = learning_rate\n",
    "        self.Y = y\n",
    "        for _ in range(epochs):\n",
    "            self.W += self.learn(algorithm)\n",
    "            #print(self.W)\n",
    "            self.error_rate()\n",
    "            if (plot_graph):\n",
    "                self.plot_boundary()\n",
    "    \n",
    "    def learn(self, algorithm):\n",
    "        if algorithm == \"delta\":\n",
    "            activation = phi\n",
    "            return self.delta_rule(self.W,self.X,self.Y,self.learning_rate)\n",
    "        elif algorithm == \"perceptron\":\n",
    "            activation = sign\n",
    "            return self.perceptron_rule(self.W,self.X,self.Y,self.learning_rate)\n",
    "    \n",
    "    def perceptron_rule(self, W, X, y ,learning_rate):\n",
    "        return  -learning_rate*(sign(W@X.T) - y)@X\n",
    "    def delta_rule(self, W, X, y ,learning_rate):\n",
    "        #return -learning_rate*((phi(W@X.T) - y)*dphi_dx(W@X.T)@X)\n",
    "        return -learning_rate*((phi(W@X.T) - y)*dphi_dx(W@X.T)@X)\n",
    "\n",
    "    def predict(self,x):\n",
    "        x = np.column_stack((x,np.ones(x.shape[0], dtype = int)))\n",
    "        return activation(x@self.W)   \n",
    "    def plot_boundary(self):\n",
    "        n = int(self.X.shape[0])\n",
    "        plt.scatter(self.X[:,0],self.X[:,1],c = self.Y)\n",
    "        w1,w2,b = self.W\n",
    "        x_ = np.linspace(-3,3,5)\n",
    "        y_ = - (b + w1*x_)/w2\n",
    "        plt.axis('auto')\n",
    "        plt.plot(x_, y_, '-r')\n",
    "        time.sleep(0.01)\n",
    "        display.clear_output(wait=True)\n",
    "        display.display(plt.gcf())\n",
    "        plt.clf()\n",
    "    def error_rate(self):\n",
    "        self.error.append((sum((activation(self.W@self.X.T) - self.Y)!=0)/self.X.shape[0]))\n",
    "\n",
    "    \n",
    "def sign(x):\n",
    "    return 0 + (x > 0) - (x <= 0)\n",
    "\n",
    "def activation(x, function = sign):\n",
    "    return function(x)\n",
    "\n",
    "def phi(x):\n",
    "    return 2/(1 + np.exp(-x)) -1\n",
    "\n",
    "def dphi_dx(x):\n",
    "    return (1+phi(x))*(1-phi(x))/2\n"
   ]
  },
  {
   "cell_type": "code",
   "execution_count": 266,
   "metadata": {},
   "outputs": [
    {
     "name": "stdout",
     "output_type": "stream",
     "text": [
      "y.shape = (200,)\n",
      "X.shape = (200, 3)\n",
      "W.shape = (3,)\n"
     ]
    }
   ],
   "source": [
    "print(\"y.shape = {}\".format(y.shape))\n",
    "print(\"X.shape = {}\".format(X.shape))\n",
    "print(\"W.shape = {}\".format(W.shape))"
   ]
  },
  {
   "cell_type": "markdown",
   "metadata": {},
   "source": [
    "### Generate dataset"
   ]
  },
  {
   "cell_type": "code",
   "execution_count": 203,
   "metadata": {},
   "outputs": [],
   "source": [
    "def get_data(n, sigmaA, sigmaB, mA, mB):\n",
    "    \n",
    "    x1 = np.random.normal(size=(n, 2), loc = mA, scale = sigmaA)\n",
    "    x2 = np.random.normal(size=(n, 2), loc = mB, scale = sigmaB)\n",
    "    \n",
    "    y1 = -np.ones(n)\n",
    "    y2 = np.ones(n)\n",
    "    \n",
    "    #return np.vstack((x1,y1)), np.vstack((x2,y2))\n",
    "    return randomize(np.vstack((x1, x2)), np.hstack((y1, y2)))"
   ]
  },
  {
   "cell_type": "code",
   "execution_count": 204,
   "metadata": {},
   "outputs": [],
   "source": [
    "def randomize(a, b):\n",
    "    # Generate the permutation index array.\n",
    "    permutation = np.random.permutation(a.shape[0])\n",
    "    # Shuffle the arrays by giving the permutation in the square brackets.\n",
    "    shuffled_a = a[permutation]\n",
    "    shuffled_b = b[permutation]\n",
    "    return shuffled_a, shuffled_b"
   ]
  },
  {
   "cell_type": "code",
   "execution_count": 262,
   "metadata": {},
   "outputs": [],
   "source": [
    "n = 100\n",
    "mA = [0,0.5]\n",
    "mB = [0.5,-1]\n",
    "sigmaA = 0.3\n",
    "sigmaB = 0.3"
   ]
  },
  {
   "cell_type": "code",
   "execution_count": 263,
   "metadata": {},
   "outputs": [],
   "source": [
    "x, y = get_data(n, sigmaA, sigmaB, mA, mB)\n",
    "X = np.column_stack((x,np.ones(x.shape[0], dtype = int)))\n",
    "W = np.random.normal(size = x.shape[1] + 1)"
   ]
  },
  {
   "cell_type": "code",
   "execution_count": 315,
   "metadata": {
    "scrolled": false
   },
   "outputs": [
    {
     "data": {
      "image/png": "[encoded data removed]",
      "text/plain": [
       "<Figure size 432x288 with 1 Axes>"
      ]
     },
     "metadata": {},
     "output_type": "display_data"
    },
    {
     "name": "stdout",
     "output_type": "stream",
     "text": [
      "Error: 0.05\n"
     ]
    },
    {
     "data": {
      "text/plain": [
       "[<matplotlib.lines.Line2D at 0x11c1957f0>]"
      ]
     },
     "execution_count": 315,
     "metadata": {},
     "output_type": "execute_result"
    },
    {
     "data": {
      "image/png": "[encoded data removed]",
      "text/plain": [
       "<Figure size 432x288 with 1 Axes>"
      ]
     },
     "metadata": {
      "needs_background": "light"
     },
     "output_type": "display_data"
    }
   ],
   "source": [
    "%matplotlib inline\n",
    "p = Perceptron()\n",
    "p.fit(x,y, algorithm = \"delta\", learning_rate = 0.001, epochs = 100, plot_graph = True)\n",
    "p.plot_boundary()\n",
    "print(\"Error: {}\".format(p.error[-1]))\n",
    "plt.clf()\n",
    "plt.plot(p.error)"
   ]
  },
  {
   "cell_type": "code",
   "execution_count": 316,
   "metadata": {},
   "outputs": [
    {
     "data": {
      "image/png": "[encoded data removed]",
      "text/plain": [
       "<Figure size 432x288 with 1 Axes>"
      ]
     },
     "metadata": {},
     "output_type": "display_data"
    },
    {
     "name": "stdout",
     "output_type": "stream",
     "text": [
      "Error: 0.04\n"
     ]
    },
    {
     "data": {
      "text/plain": [
       "[<matplotlib.lines.Line2D at 0x11de12390>]"
      ]
     },
     "execution_count": 316,
     "metadata": {},
     "output_type": "execute_result"
    },
    {
     "data": {
      "image/png": "[encoded data removed]",
      "text/plain": [
       "<Figure size 432x288 with 1 Axes>"
      ]
     },
     "metadata": {
      "needs_background": "light"
     },
     "output_type": "display_data"
    }
   ],
   "source": [
    "%matplotlib inline\n",
    "p = Perceptron()\n",
    "p.fit(x,y, algorithm = \"perceptron\", learning_rate = 0.001, epochs = 100, plot_graph = True)\n",
    "\n",
    "p.plot_boundary()\n",
    "print(\"Error: {}\".format(p.error[-1]))\n",
    "plt.clf()\n",
    "plt.plot(p.error)"
   ]
  },
  {
   "cell_type": "code",
   "execution_count": 111,
   "metadata": {
    "scrolled": false
   },
   "outputs": [
    {
     "data": {
      "text/plain": [
       "array([[0, 1, 1],\n",
       "       [2, 3, 1],\n",
       "       [4, 5, 1]])"
      ]
     },
     "execution_count": 111,
     "metadata": {},
     "output_type": "execute_result"
    }
   ],
   "source": [
    "np.column_stack((b,np.ones(3, dtype = int)))"
   ]
  },
  {
   "cell_type": "code",
   "execution_count": 111,
   "metadata": {},
   "outputs": [],
   "source": [
    " w1,w2,b = W"
   ]
  },
  {
   "cell_type": "code",
   "execution_count": 115,
   "metadata": {},
   "outputs": [
    {
     "data": {
      "text/plain": [
       "array([0.15229424, 0.94758742, 1.44384761])"
      ]
     },
     "execution_count": 115,
     "metadata": {},
     "output_type": "execute_result"
    }
   ],
   "source": [
    "W"
   ]
  },
  {
   "cell_type": "code",
   "execution_count": 84,
   "metadata": {},
   "outputs": [
    {
     "name": "stdout",
     "output_type": "stream",
     "text": [
      "[1 2 3]\n",
      "[[0 1]\n",
      " [2 3]\n",
      " [4 5]]\n"
     ]
    }
   ],
   "source": [
    "a = np.array([1,2,3])\n",
    "b =  np.arange(6).reshape(3,2)\n",
    "print(a)\n",
    "print(b)"
   ]
  },
  {
   "cell_type": "code",
   "execution_count": 87,
   "metadata": {},
   "outputs": [
    {
     "name": "stdout",
     "output_type": "stream",
     "text": [
      "(3,)\n",
      "(3, 2)\n"
     ]
    }
   ],
   "source": [
    "print(a.shape)\n",
    "print(b.shape)"
   ]
  },
  {
   "cell_type": "code",
   "execution_count": 88,
   "metadata": {},
   "outputs": [
    {
     "name": "stdout",
     "output_type": "stream",
     "text": [
      "(200, 2)\n",
      "(100,)\n"
     ]
    }
   ],
   "source": [
    "print(x.shape)\n",
    "print(W.shape)"
   ]
  },
  {
   "cell_type": "code",
   "execution_count": 116,
   "metadata": {},
   "outputs": [
    {
     "data": {
      "text/plain": [
       "2"
      ]
     },
     "execution_count": 116,
     "metadata": {},
     "output_type": "execute_result"
    }
   ],
   "source": [
    "x.shape[1]"
   ]
  },
  {
   "cell_type": "code",
   "execution_count": 169,
   "metadata": {},
   "outputs": [],
   "source": [
    "def sign(x):\n",
    "    return 1 if x >= 0 else -1\n",
    "\n",
    "def activation(x, function = sign):\n",
    "    return function(x)"
   ]
  },
  {
   "cell_type": "code",
   "execution_count": 179,
   "metadata": {},
   "outputs": [],
   "source": [
    "z = np.arange(10)"
   ]
  },
  {
   "cell_type": "code",
   "execution_count": 195,
   "metadata": {},
   "outputs": [],
   "source": [
    "z_ = 0 + (z > 5 ) - (z <= 5)"
   ]
  },
  {
   "cell_type": "code",
   "execution_count": 196,
   "metadata": {},
   "outputs": [
    {
     "data": {
      "text/plain": [
       "array([-1, -1, -1, -1, -1, -1,  1,  1,  1,  1])"
      ]
     },
     "execution_count": 196,
     "metadata": {},
     "output_type": "execute_result"
    }
   ],
   "source": [
    "z_"
   ]
  },
  {
   "cell_type": "code",
   "execution_count": null,
   "metadata": {},
   "outputs": [],
   "source": []
  }
 ],
 "metadata": {
  "kernelspec": {
   "display_name": "Python 3",
   "language": "python",
   "name": "python3"
  },
  "language_info": {
   "codemirror_mode": {
    "name": "ipython",
    "version": 3
   },
   "file_extension": ".py",
   "mimetype": "text/x-python",
   "name": "python",
   "nbconvert_exporter": "python",
   "pygments_lexer": "ipython3",
   "version": "3.7.3"
  }
 },
 "nbformat": 4,
 "nbformat_minor": 2
}
